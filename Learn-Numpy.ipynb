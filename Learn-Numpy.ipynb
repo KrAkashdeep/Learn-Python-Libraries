{
 "cells": [
  {
   "cell_type": "code",
   "execution_count": 1,
   "id": "0bc445b5-a963-4617-89df-7d9371f23122",
   "metadata": {},
   "outputs": [],
   "source": [
    "import numpy as np"
   ]
  },
  {
   "cell_type": "code",
   "execution_count": 2,
   "id": "0d90bc20-c989-4a26-a3b0-c1350a3a60b2",
   "metadata": {},
   "outputs": [
    {
     "data": {
      "text/plain": [
       "array([1, 2, 3, 4])"
      ]
     },
     "execution_count": 2,
     "metadata": {},
     "output_type": "execute_result"
    }
   ],
   "source": [
    "# create 1D array \n",
    "arr=np.array([1,2,3,4])\n",
    "arr"
   ]
  },
  {
   "cell_type": "code",
   "execution_count": 3,
   "id": "0f3710a7-79dc-411b-b74b-6a3851b0c47e",
   "metadata": {},
   "outputs": [
    {
     "data": {
      "text/plain": [
       "dtype('int32')"
      ]
     },
     "execution_count": 3,
     "metadata": {},
     "output_type": "execute_result"
    }
   ],
   "source": [
    "# data type of (arr) array\n",
    "arr.dtype"
   ]
  },
  {
   "cell_type": "code",
   "execution_count": 4,
   "id": "7f7fadcd-6420-4068-ab0f-96c9ab700164",
   "metadata": {},
   "outputs": [
    {
     "data": {
      "text/plain": [
       "(4,)"
      ]
     },
     "execution_count": 4,
     "metadata": {},
     "output_type": "execute_result"
    }
   ],
   "source": [
    "# shape of the array \n",
    "arr.shape"
   ]
  },
  {
   "cell_type": "code",
   "execution_count": 5,
   "id": "56e6cf41-b8c2-47d7-a73e-be0288a27c02",
   "metadata": {},
   "outputs": [
    {
     "data": {
      "text/plain": [
       "4"
      ]
     },
     "execution_count": 5,
     "metadata": {},
     "output_type": "execute_result"
    }
   ],
   "source": [
    "# get the value at specific index(3)\n",
    "arr[3]"
   ]
  },
  {
   "cell_type": "code",
   "execution_count": 6,
   "id": "15d1954a-89ef-46f9-8e3f-9dac66ce5bc4",
   "metadata": {},
   "outputs": [
    {
     "data": {
      "text/plain": [
       "array([[1, 2, 3, 4],\n",
       "       [5, 6, 7, 8]])"
      ]
     },
     "execution_count": 6,
     "metadata": {},
     "output_type": "execute_result"
    }
   ],
   "source": [
    "# creating 2D array \n",
    "lstarr=np.array([[1,2,3,4],[5,6,7,8]])\n",
    "lstarr"
   ]
  },
  {
   "cell_type": "code",
   "execution_count": 7,
   "id": "e627f70b-4dd6-469b-9e6b-3fbb1a3f10f9",
   "metadata": {},
   "outputs": [
    {
     "data": {
      "text/plain": [
       "array([1, 2, 3, 4, 5, 6, 7, 8])"
      ]
     },
     "execution_count": 7,
     "metadata": {},
     "output_type": "execute_result"
    }
   ],
   "source": [
    "# make the 2D array in 1D array\n",
    "lstarr.ravel()"
   ]
  },
  {
   "cell_type": "code",
   "execution_count": 8,
   "id": "bce84b7a-e2ce-4be5-a532-1a76a9d44fbe",
   "metadata": {},
   "outputs": [
    {
     "data": {
      "text/plain": [
       "array([[0., 0., 0.],\n",
       "       [0., 0., 0.]])"
      ]
     },
     "execution_count": 8,
     "metadata": {},
     "output_type": "execute_result"
    }
   ],
   "source": [
    "# creating array fill with zeroes\n",
    "zero=np.zeros((2,3))\n",
    "zero"
   ]
  },
  {
   "cell_type": "code",
   "execution_count": 9,
   "id": "e6c5dc09-4a4d-4b3d-a220-73e5b982d68f",
   "metadata": {},
   "outputs": [
    {
     "data": {
      "text/plain": [
       "dtype('float64')"
      ]
     },
     "execution_count": 9,
     "metadata": {},
     "output_type": "execute_result"
    }
   ],
   "source": [
    "# datatype of zeroes arrray is float\n",
    "zero.dtype"
   ]
  },
  {
   "cell_type": "code",
   "execution_count": 10,
   "id": "e41a25dd-3030-494a-9e88-e64faf5afad1",
   "metadata": {},
   "outputs": [
    {
     "data": {
      "text/plain": [
       "array([ 0,  1,  2,  3,  4,  5,  6,  7,  8,  9, 10, 11, 12, 13, 14])"
      ]
     },
     "execution_count": 10,
     "metadata": {},
     "output_type": "execute_result"
    }
   ],
   "source": [
    "# arange(n) generate the number from (0 to n-1)\n",
    "a = np.arange(15)\n",
    "a"
   ]
  },
  {
   "cell_type": "code",
   "execution_count": 11,
   "id": "1a081766-67bd-4f94-827f-0f313da18439",
   "metadata": {},
   "outputs": [
    {
     "data": {
      "text/plain": [
       "array([[ 0,  1,  2],\n",
       "       [ 3,  4,  5],\n",
       "       [ 6,  7,  8],\n",
       "       [ 9, 10, 11],\n",
       "       [12, 13, 14]])"
      ]
     },
     "execution_count": 11,
     "metadata": {},
     "output_type": "execute_result"
    }
   ],
   "source": [
    "# reshape the a in 5 rows and 3 column\n",
    "a.reshape(5,3)"
   ]
  },
  {
   "cell_type": "code",
   "execution_count": 12,
   "id": "49eb4c5e-41ea-407d-89c8-ae70e687e84f",
   "metadata": {},
   "outputs": [
    {
     "data": {
      "text/plain": [
       "array([ 0,  1,  2,  3,  4,  5,  6,  7,  8,  9, 10, 11, 12, 13, 14])"
      ]
     },
     "execution_count": 12,
     "metadata": {},
     "output_type": "execute_result"
    }
   ],
   "source": [
    "# making 2D to 1D array\n",
    "a.ravel()"
   ]
  },
  {
   "cell_type": "code",
   "execution_count": 13,
   "id": "444f2f05-f3a3-46c0-8210-ff730a52a9d3",
   "metadata": {},
   "outputs": [
    {
     "data": {
      "text/plain": [
       "array([1.        , 1.18181818, 1.36363636, 1.54545455, 1.72727273,\n",
       "       1.90909091, 2.09090909, 2.27272727, 2.45454545, 2.63636364,\n",
       "       2.81818182, 3.        ])"
      ]
     },
     "execution_count": 13,
     "metadata": {},
     "output_type": "execute_result"
    }
   ],
   "source": [
    "# equal space b/w each number(here 1 se 3 tk jayege and 12 numbers dega with same difference b/w each numbers)\n",
    "lspace=np.linspace(1,3,12)\n",
    "lspace"
   ]
  },
  {
   "cell_type": "code",
   "execution_count": 14,
   "id": "4be12cbe-82a9-4346-8309-1b64ad6c7aa6",
   "metadata": {},
   "outputs": [
    {
     "data": {
      "text/plain": [
       "array([[6.23042070e-307, 4.67296746e-307],\n",
       "       [1.69121096e-306, 7.56597770e-307],\n",
       "       [1.89146896e-307, 7.56571288e-307],\n",
       "       [3.11525958e-307, 1.24610723e-306]])"
      ]
     },
     "execution_count": 14,
     "metadata": {},
     "output_type": "execute_result"
    }
   ],
   "source": [
    "# create empty array and fill with random numbers\n",
    "emp=np.empty((4,2))\n",
    "emp"
   ]
  },
  {
   "cell_type": "code",
   "execution_count": 15,
   "id": "dfde5f94-2ce0-4973-a7cd-006a287eb761",
   "metadata": {},
   "outputs": [
    {
     "data": {
      "text/plain": [
       "array([1.        , 1.18181818, 1.36363636, 1.54545455, 1.72727273,\n",
       "       1.90909091, 2.09090909, 2.27272727, 2.45454545, 2.63636364,\n",
       "       2.81818182, 3.        ])"
      ]
     },
     "execution_count": 15,
     "metadata": {},
     "output_type": "execute_result"
    }
   ],
   "source": [
    "# create empty array with fill with the value \n",
    "em_like=np.empty_like(lspace)\n",
    "em_like"
   ]
  },
  {
   "cell_type": "code",
   "execution_count": 16,
   "id": "4a0877f7-9368-46a8-bfb2-ea795761515c",
   "metadata": {},
   "outputs": [
    {
     "data": {
      "text/plain": [
       "array([[1., 0., 0., 0., 0.],\n",
       "       [0., 1., 0., 0., 0.],\n",
       "       [0., 0., 1., 0., 0.],\n",
       "       [0., 0., 0., 1., 0.],\n",
       "       [0., 0., 0., 0., 1.]])"
      ]
     },
     "execution_count": 16,
     "metadata": {},
     "output_type": "execute_result"
    }
   ],
   "source": [
    "# create identity matrix of 5 by 5\n",
    "ide=np.identity(5)\n",
    "ide"
   ]
  },
  {
   "cell_type": "code",
   "execution_count": 17,
   "id": "6db3ae40-f42e-4bb3-8815-74e3f8a8ee81",
   "metadata": {},
   "outputs": [
    {
     "data": {
      "text/plain": [
       "array([[1, 2, 3],\n",
       "       [4, 5, 6],\n",
       "       [7, 8, 9]])"
      ]
     },
     "execution_count": 17,
     "metadata": {},
     "output_type": "execute_result"
    }
   ],
   "source": [
    "# create 2D array\n",
    "arlist=np.array([[1,2,3],[4,5,6],[7,8,9]])\n",
    "arlist"
   ]
  },
  {
   "cell_type": "code",
   "execution_count": 18,
   "id": "215fa571-3fcc-483f-b00e-1187cfab3dfb",
   "metadata": {},
   "outputs": [
    {
     "data": {
      "text/plain": [
       "45"
      ]
     },
     "execution_count": 18,
     "metadata": {},
     "output_type": "execute_result"
    }
   ],
   "source": [
    "# sum of all numbers of array\n",
    "arlist.sum()"
   ]
  },
  {
   "cell_type": "code",
   "execution_count": 19,
   "id": "00108de8-39f6-4eed-9ec6-3e51f365edf5",
   "metadata": {},
   "outputs": [
    {
     "data": {
      "text/plain": [
       "array([12, 15, 18])"
      ]
     },
     "execution_count": 19,
     "metadata": {},
     "output_type": "execute_result"
    }
   ],
   "source": [
    "# sum of numer of axis 0(sum of each column (axis=0 means column))\n",
    "arlist.sum(axis=0)"
   ]
  },
  {
   "cell_type": "code",
   "execution_count": 20,
   "id": "60bd0e06-b6e6-49de-9b78-37647d58e5ab",
   "metadata": {},
   "outputs": [
    {
     "data": {
      "text/plain": [
       "array([ 6, 15, 24])"
      ]
     },
     "execution_count": 20,
     "metadata": {},
     "output_type": "execute_result"
    }
   ],
   "source": [
    "# sum of numer of axis 1(sum of each rows (axis=1 means rows))\n",
    "arlist.sum(axis=1)"
   ]
  },
  {
   "cell_type": "code",
   "execution_count": 21,
   "id": "80cbb911-8c04-495f-9001-b7e52cb34fed",
   "metadata": {},
   "outputs": [
    {
     "data": {
      "text/plain": [
       "array([[1, 4, 7],\n",
       "       [2, 5, 8],\n",
       "       [3, 6, 9]])"
      ]
     },
     "execution_count": 21,
     "metadata": {},
     "output_type": "execute_result"
    }
   ],
   "source": [
    "# transpose of matrix(transpose means row become column and column become rows)\n",
    "arlist.T"
   ]
  },
  {
   "cell_type": "code",
   "execution_count": 22,
   "id": "e5da809b-898a-4d37-9531-956449decc12",
   "metadata": {},
   "outputs": [
    {
     "name": "stdout",
     "output_type": "stream",
     "text": [
      "1\n",
      "2\n",
      "3\n",
      "4\n",
      "5\n",
      "6\n",
      "7\n",
      "8\n",
      "9\n"
     ]
    }
   ],
   "source": [
    "# flat use for iterate the number of the array\n",
    "for i in arlist.flat:\n",
    "    print(i)"
   ]
  },
  {
   "cell_type": "code",
   "execution_count": 23,
   "id": "078f92b4-86a3-4e46-ad0e-1671330a9943",
   "metadata": {},
   "outputs": [
    {
     "data": {
      "text/plain": [
       "2"
      ]
     },
     "execution_count": 23,
     "metadata": {},
     "output_type": "execute_result"
    }
   ],
   "source": [
    "# dimension of array(1D,2D,3D...)\n",
    "arlist.ndim"
   ]
  },
  {
   "cell_type": "code",
   "execution_count": 24,
   "id": "94e6b672-107a-4bdb-8f88-96c4fbafbdc5",
   "metadata": {},
   "outputs": [
    {
     "data": {
      "text/plain": [
       "9"
      ]
     },
     "execution_count": 24,
     "metadata": {},
     "output_type": "execute_result"
    }
   ],
   "source": [
    "# size of array(number of elements in array)\n",
    "arlist.size"
   ]
  },
  {
   "cell_type": "code",
   "execution_count": 25,
   "id": "a58e91e4-5c26-44b5-b6aa-fb044a8a5ce8",
   "metadata": {},
   "outputs": [
    {
     "data": {
      "text/plain": [
       "36"
      ]
     },
     "execution_count": 25,
     "metadata": {},
     "output_type": "execute_result"
    }
   ],
   "source": [
    "# number of bytes of array \n",
    "arlist.nbytes"
   ]
  },
  {
   "cell_type": "code",
   "execution_count": 26,
   "id": "06058f93-6cfd-4a7d-9f05-74cccc3fc641",
   "metadata": {},
   "outputs": [
    {
     "data": {
      "text/plain": [
       "dtype('int32')"
      ]
     },
     "execution_count": 26,
     "metadata": {},
     "output_type": "execute_result"
    }
   ],
   "source": [
    "# data types of array\n",
    "arlist.dtype"
   ]
  },
  {
   "cell_type": "code",
   "execution_count": 27,
   "id": "3b3dbde6-ac23-4983-b21f-fe7846b195de",
   "metadata": {},
   "outputs": [
    {
     "data": {
      "text/plain": [
       "array([11,  2,  5,  7,  1,  8, 91, 21])"
      ]
     },
     "execution_count": 27,
     "metadata": {},
     "output_type": "execute_result"
    }
   ],
   "source": [
    "# create 1D array\n",
    "nar=np.array([11,2,5,7,1,8,91,21])\n",
    "nar"
   ]
  },
  {
   "cell_type": "code",
   "execution_count": 28,
   "id": "21435348-2d0c-4b15-b969-a10d910d7465",
   "metadata": {},
   "outputs": [
    {
     "data": {
      "text/plain": [
       "91"
      ]
     },
     "execution_count": 28,
     "metadata": {},
     "output_type": "execute_result"
    }
   ],
   "source": [
    "# print the maximum value\n",
    "nar.max()"
   ]
  },
  {
   "cell_type": "code",
   "execution_count": 29,
   "id": "443887e0-d16f-4c2b-a9d3-fdcf519aaba5",
   "metadata": {},
   "outputs": [
    {
     "data": {
      "text/plain": [
       "6"
      ]
     },
     "execution_count": 29,
     "metadata": {},
     "output_type": "execute_result"
    }
   ],
   "source": [
    "# print the index of the maximum value of array \n",
    "nar.argmax()"
   ]
  },
  {
   "cell_type": "code",
   "execution_count": 30,
   "id": "8e0d0bf0-975a-437a-ba82-5c98e5e7de8f",
   "metadata": {},
   "outputs": [
    {
     "data": {
      "text/plain": [
       "1"
      ]
     },
     "execution_count": 30,
     "metadata": {},
     "output_type": "execute_result"
    }
   ],
   "source": [
    "# print he minimum value of array\n",
    "nar.min()"
   ]
  },
  {
   "cell_type": "code",
   "execution_count": 31,
   "id": "8ba424f3-0e58-42a7-918a-366d02a58370",
   "metadata": {},
   "outputs": [
    {
     "data": {
      "text/plain": [
       "4"
      ]
     },
     "execution_count": 31,
     "metadata": {},
     "output_type": "execute_result"
    }
   ],
   "source": [
    "# print he index of minimum value\n",
    "nar.argmin()"
   ]
  },
  {
   "cell_type": "code",
   "execution_count": 32,
   "id": "386033d3-ad11-4979-9370-2c90fa52200a",
   "metadata": {},
   "outputs": [
    {
     "data": {
      "text/plain": [
       "array([4, 1, 2, 3, 5, 0, 7, 6], dtype=int64)"
      ]
     },
     "execution_count": 32,
     "metadata": {},
     "output_type": "execute_result"
    }
   ],
   "source": [
    "# give the index after sorting the value\n",
    "nar.argsort()"
   ]
  },
  {
   "cell_type": "code",
   "execution_count": 33,
   "id": "3e677457-0af6-406d-9b4d-4712adf05db9",
   "metadata": {},
   "outputs": [
    {
     "data": {
      "text/plain": [
       "array([[4, 2, 1],\n",
       "       [3, 0, 7],\n",
       "       [5, 8, 6]])"
      ]
     },
     "execution_count": 33,
     "metadata": {},
     "output_type": "execute_result"
    }
   ],
   "source": [
    "# create 2D array\n",
    "arl=np.array([[4,2,1],[3,0,7],[5,8,6]])\n",
    "arl"
   ]
  },
  {
   "cell_type": "code",
   "execution_count": 35,
   "id": "e117c512-62fd-470f-bd95-9fac6335239c",
   "metadata": {},
   "outputs": [
    {
     "data": {
      "text/plain": [
       "8"
      ]
     },
     "execution_count": 35,
     "metadata": {},
     "output_type": "execute_result"
    }
   ],
   "source": [
    "# maximum value in 2D array\n",
    "arl.max()"
   ]
  },
  {
   "cell_type": "code",
   "execution_count": 36,
   "id": "def58b86-bd5a-438a-9403-75641f335074",
   "metadata": {},
   "outputs": [
    {
     "data": {
      "text/plain": [
       "7"
      ]
     },
     "execution_count": 36,
     "metadata": {},
     "output_type": "execute_result"
    }
   ],
   "source": [
    "# index of maximum value in 2D array \n",
    "arl.argmax()"
   ]
  },
  {
   "cell_type": "code",
   "execution_count": 37,
   "id": "d2342173-3979-48ad-8c31-8f441bf21f8e",
   "metadata": {},
   "outputs": [
    {
     "data": {
      "text/plain": [
       "0"
      ]
     },
     "execution_count": 37,
     "metadata": {},
     "output_type": "execute_result"
    }
   ],
   "source": [
    "# minimum value of 2D array\n",
    "arl.min()"
   ]
  },
  {
   "cell_type": "code",
   "execution_count": 38,
   "id": "06c532b9-7d36-4c9f-be34-5573efecd431",
   "metadata": {},
   "outputs": [
    {
     "data": {
      "text/plain": [
       "4"
      ]
     },
     "execution_count": 38,
     "metadata": {},
     "output_type": "execute_result"
    }
   ],
   "source": [
    "# index of minimum value of 2D aray\n",
    "arl.argmin()"
   ]
  },
  {
   "cell_type": "code",
   "execution_count": 39,
   "id": "c2cd7474-2206-4113-9702-9da11094936a",
   "metadata": {},
   "outputs": [
    {
     "data": {
      "text/plain": [
       "array([2, 2, 1], dtype=int64)"
      ]
     },
     "execution_count": 39,
     "metadata": {},
     "output_type": "execute_result"
    }
   ],
   "source": [
    "# give index of maximum value in axis=0(in all column)\n",
    "arl.argmax(axis=0)"
   ]
  },
  {
   "cell_type": "code",
   "execution_count": 40,
   "id": "2379bd5a-d04d-48b6-8f0e-e1179064c39d",
   "metadata": {},
   "outputs": [
    {
     "data": {
      "text/plain": [
       "array([0, 2, 1], dtype=int64)"
      ]
     },
     "execution_count": 40,
     "metadata": {},
     "output_type": "execute_result"
    }
   ],
   "source": [
    "# # give index of maximum value in axis=1(in all rows)\n",
    "arl.argmax(axis=1)"
   ]
  },
  {
   "cell_type": "code",
   "execution_count": 127,
   "id": "9485075a-28b0-4dca-8de4-537eefbc9b63",
   "metadata": {},
   "outputs": [
    {
     "data": {
      "text/plain": [
       "array([[4, 2, 1],\n",
       "       [3, 0, 7],\n",
       "       [5, 8, 6]])"
      ]
     },
     "execution_count": 127,
     "metadata": {},
     "output_type": "execute_result"
    }
   ],
   "source": [
    "arl\n"
   ]
  },
  {
   "cell_type": "code",
   "execution_count": 128,
   "id": "455fef13-edf6-4012-bc25-089e94770079",
   "metadata": {},
   "outputs": [
    {
     "data": {
      "text/plain": [
       "array([[1, 2, 3],\n",
       "       [4, 5, 6],\n",
       "       [7, 8, 9]])"
      ]
     },
     "execution_count": 128,
     "metadata": {},
     "output_type": "execute_result"
    }
   ],
   "source": [
    "arlist"
   ]
  },
  {
   "cell_type": "code",
   "execution_count": 41,
   "id": "77d02d70-a408-4d31-bac5-d83b5f18710a",
   "metadata": {},
   "outputs": [
    {
     "data": {
      "text/plain": [
       "array([[ 5,  4,  4],\n",
       "       [ 7,  5, 13],\n",
       "       [12, 16, 15]])"
      ]
     },
     "execution_count": 41,
     "metadata": {},
     "output_type": "execute_result"
    }
   ],
   "source": [
    "# sum of 2 array \n",
    "arl+arlist"
   ]
  },
  {
   "cell_type": "code",
   "execution_count": 42,
   "id": "23d7d90f-8ed0-4a82-923f-a0ae69279a48",
   "metadata": {},
   "outputs": [
    {
     "data": {
      "text/plain": [
       "array([[2.        , 1.41421356, 1.        ],\n",
       "       [1.73205081, 0.        , 2.64575131],\n",
       "       [2.23606798, 2.82842712, 2.44948974]])"
      ]
     },
     "execution_count": 42,
     "metadata": {},
     "output_type": "execute_result"
    }
   ],
   "source": [
    "# square root of array \n",
    "np.sqrt(arl)"
   ]
  },
  {
   "cell_type": "code",
   "execution_count": 43,
   "id": "7dca341f-0628-4792-b556-bcc8d043afef",
   "metadata": {},
   "outputs": [
    {
     "data": {
      "text/plain": [
       "(array([1, 2, 2, 2], dtype=int64), array([2, 0, 1, 2], dtype=int64))"
      ]
     },
     "execution_count": 43,
     "metadata": {},
     "output_type": "execute_result"
    }
   ],
   "source": [
    "# give the index whose value is > 4 \n",
    "np.where(arl>4)"
   ]
  },
  {
   "cell_type": "code",
   "execution_count": 44,
   "id": "0d6dd406-679f-4a8e-86db-7fa798638741",
   "metadata": {},
   "outputs": [
    {
     "data": {
      "text/plain": [
       "8"
      ]
     },
     "execution_count": 44,
     "metadata": {},
     "output_type": "execute_result"
    }
   ],
   "source": [
    "# count the number of non zeroes in array\n",
    "np.count_nonzero(arl)"
   ]
  },
  {
   "cell_type": "code",
   "execution_count": 45,
   "id": "f14a1c33-a682-4d05-b0d4-e0545a3f031f",
   "metadata": {},
   "outputs": [
    {
     "data": {
      "text/plain": [
       "(array([0, 0, 0, 1, 1, 2, 2, 2], dtype=int64),\n",
       " array([0, 1, 2, 0, 2, 0, 1, 2], dtype=int64))"
      ]
     },
     "execution_count": 45,
     "metadata": {},
     "output_type": "execute_result"
    }
   ],
   "source": [
    "# print the index of non zeroes value\n",
    "np.nonzero(arl)"
   ]
  },
  {
   "cell_type": "code",
   "execution_count": 46,
   "id": "c00fdd1e-1cb6-4dba-8948-f133c3b111f1",
   "metadata": {},
   "outputs": [
    {
     "data": {
      "text/plain": [
       "4"
      ]
     },
     "execution_count": 46,
     "metadata": {},
     "output_type": "execute_result"
    }
   ],
   "source": [
    "# print the size of each item in array\n",
    "arl.itemsize"
   ]
  },
  {
   "cell_type": "code",
   "execution_count": 47,
   "id": "4b0e6c3f-432e-402e-a03e-cc85a947d6b8",
   "metadata": {},
   "outputs": [
    {
     "data": {
      "text/plain": [
       "9"
      ]
     },
     "execution_count": 47,
     "metadata": {},
     "output_type": "execute_result"
    }
   ],
   "source": [
    "# count the number of element in array\n",
    "arl.size"
   ]
  },
  {
   "cell_type": "code",
   "execution_count": 48,
   "id": "76f6dc42-516c-4438-b465-794e28d9573d",
   "metadata": {},
   "outputs": [
    {
     "data": {
      "text/plain": [
       "[[4, 2, 1], [3, 0, 7], [5, 8, 6]]"
      ]
     },
     "execution_count": 48,
     "metadata": {},
     "output_type": "execute_result"
    }
   ],
   "source": [
    "# convert array to list\n",
    "arl.tolist()"
   ]
  }
 ],
 "metadata": {
  "kernelspec": {
   "display_name": "Python 3 (ipykernel)",
   "language": "python",
   "name": "python3"
  },
  "language_info": {
   "codemirror_mode": {
    "name": "ipython",
    "version": 3
   },
   "file_extension": ".py",
   "mimetype": "text/x-python",
   "name": "python",
   "nbconvert_exporter": "python",
   "pygments_lexer": "ipython3",
   "version": "3.12.1"
  }
 },
 "nbformat": 4,
 "nbformat_minor": 5
}
